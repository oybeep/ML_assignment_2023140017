{
  "nbformat": 4,
  "nbformat_minor": 0,
  "metadata": {
    "colab": {
      "provenance": []
    },
    "kernelspec": {
      "name": "python3",
      "display_name": "Python 3"
    },
    "language_info": {
      "name": "python"
    }
  },
  "cells": [
    {
      "cell_type": "markdown",
      "source": [
        "**2. 위의 문제에서 Convolution Layer(conv3), Fully connected layer(FC2) 를 1개씩\n",
        " 추가하고, 정확도가 높아지는지 평가하라.**"
      ],
      "metadata": {
        "id": "8C7RJd_JWadQ"
      }
    },
    {
      "cell_type": "markdown",
      "source": [
        "Traning"
      ],
      "metadata": {
        "id": "P9YScIREWaP8"
      }
    },
    {
      "cell_type": "code",
      "execution_count": 1,
      "metadata": {
        "id": "OlBwMBa858Yk"
      },
      "outputs": [],
      "source": [
        "import tensorflow as tf\n",
        "import numpy as np\n",
        "import matplotlib.pyplot as plt"
      ]
    },
    {
      "cell_type": "code",
      "source": [
        "mnist = tf.keras.datasets.mnist\n",
        "\n",
        "(train_x, train_y), (test_x, test_y) = mnist.load_data()\n",
        "\n",
        "train_x, test_x = train_x/255.0, test_x/255.0"
      ],
      "metadata": {
        "colab": {
          "base_uri": "https://localhost:8080/"
        },
        "id": "73H7l_Ug6Ay0",
        "outputId": "cd372879-7dae-4c3b-8d66-49fc7b4e5954"
      },
      "execution_count": 2,
      "outputs": [
        {
          "output_type": "stream",
          "name": "stdout",
          "text": [
            "Downloading data from https://storage.googleapis.com/tensorflow/tf-keras-datasets/mnist.npz\n",
            "\u001b[1m11490434/11490434\u001b[0m \u001b[32m━━━━━━━━━━━━━━━━━━━━\u001b[0m\u001b[37m\u001b[0m \u001b[1m0s\u001b[0m 0us/step\n"
          ]
        }
      ]
    },
    {
      "cell_type": "code",
      "source": [
        "train_x.shape"
      ],
      "metadata": {
        "colab": {
          "base_uri": "https://localhost:8080/"
        },
        "id": "4wG7L7Os6CvJ",
        "outputId": "c4e0430b-6bf6-4459-81ee-8aa60c4f3b1f"
      },
      "execution_count": 3,
      "outputs": [
        {
          "output_type": "execute_result",
          "data": {
            "text/plain": [
              "(60000, 28, 28)"
            ]
          },
          "metadata": {},
          "execution_count": 3
        }
      ]
    },
    {
      "cell_type": "code",
      "source": [
        "train_x = train_x.reshape((train_x.shape[0], 28, 28, 1))\n",
        "test_x = test_x.reshape((test_x.shape[0], 28, 28, 1))"
      ],
      "metadata": {
        "id": "Kil-m-Ys6llV"
      },
      "execution_count": 4,
      "outputs": []
    },
    {
      "cell_type": "code",
      "source": [
        "# input layer\n",
        "input_h = 28   # input height\n",
        "input_w = 28  # input width\n",
        "input_ch = 1   # input channel : Gray scale\n",
        "\n",
        "\n",
        "# 1st convolution layer\n",
        "k1_h =3\n",
        "k1_w =3\n",
        "k1_ch =32\n",
        "p1_h =2\n",
        "p1_w =2\n",
        "# (None, 14, 14, 32)\n",
        "\n",
        "# 2nd convolution layer\n",
        "k2_h =3\n",
        "k2_w =3\n",
        "k2_ch =64\n",
        "p2_h =2\n",
        "p2_w =2\n",
        "# (None, 7, 7, 64)\n",
        "\n",
        "# 3rd convolution layer\n",
        "k3_h =3\n",
        "k3_w =3\n",
        "k3_ch =128\n",
        "p3_h =2\n",
        "p3_w =2\n",
        "# (None, 4, 4, 128)\n",
        "\n",
        "# Fully connected : flatten the features (4x4x128)\n",
        "conv_result_size = 4 * 4 * 128  # Corrected calculation\n",
        "n_hidden = 100\n",
        "n_output = 10"
      ],
      "metadata": {
        "id": "MjYVSpVc6nZO"
      },
      "execution_count": 27,
      "outputs": []
    },
    {
      "cell_type": "code",
      "source": [
        "# Kernel size : [kernel_height, kernel_width, input_ch, output_ch]\n",
        "import tensorflow.compat.v1 as tf\n",
        "tf.disable_v2_behavior()\n",
        "\n",
        "weights = {\n",
        "    'conv1' : tf.Variable(tf.random.normal([k1_h, k1_w,input_ch, k1_ch], stddev = 0.1)), #height, width, in_channel, out_channel, stddev=표준편차\n",
        "    'conv2' : tf.Variable(tf.random.normal([k2_h, k2_w, k1_ch, k2_ch], stddev = 0.1)),\n",
        "    'conv3' : tf.Variable(tf.random.normal([k3_h, k3_w, k2_ch, k3_ch], stddev = 0.1)),\n",
        "    'hidden' : tf.Variable(tf.random.normal([conv_result_size, n_hidden], stddev = 0.1)),\n",
        "    'output' : tf.Variable(tf.random.normal([n_hidden, n_output], stddev = 0.1))\n",
        "}\n",
        "\n",
        "# bias size : [output_ch] or [neuron_size]\n",
        "biases = {\n",
        "    'conv1' : tf.Variable(tf.random.normal([k1_ch], stddev = 0.1)),\n",
        "    'conv2' : tf.Variable(tf.random.normal([k2_ch], stddev = 0.1)),\n",
        "    'conv3' : tf.Variable(tf.random.normal([k3_ch], stddev = 0.1)),\n",
        "    'hidden' : tf.Variable(tf.random.normal([n_hidden], stddev = 0.1)),\n",
        "    'output' : tf.Variable(tf.random.normal([n_output], stddev = 0.1))\n",
        "}\n",
        "\n",
        "# input layer : [batch_size, image_height, image_width, channels]\n",
        "# output layer : [batch_size, class_size]\n",
        "x = tf.placeholder(shape=[None, input_h, input_w, input_ch], dtype=tf.float32)\n",
        "y = tf.placeholder(shape=[None, n_output], dtype=tf.float32)"
      ],
      "metadata": {
        "id": "uU0QT7uh-ZZJ"
      },
      "execution_count": 28,
      "outputs": []
    },
    {
      "cell_type": "code",
      "source": [
        "# [batch, height, width, channels]\n",
        "\n",
        "def net(x, weights, biases):\n",
        "    # 1st conv + ReLU + MaxPool\n",
        "    conv1 = tf.nn.conv2d(x, weights['conv1'], strides=[1,1,1,1], padding='SAME')\n",
        "    conv1 = tf.nn.relu(tf.add(conv1, biases['conv1']))\n",
        "    maxp1 = tf.nn.max_pool(conv1, ksize=[1,p1_h,p1_w,1], strides=[1,p1_h,p1_w,1], padding='VALID')\n",
        "\n",
        "    # 2nd convolution layer\n",
        "    # Corrected the strides argument to be a list [1,1,1,1] instead of trying to index a non-existent variable 'strides'\n",
        "    conv2 = tf.nn.conv2d(maxp1, weights['conv2'], [1,1,1,1], padding='SAME')\n",
        "    conv2 = tf.nn.relu(tf.add(conv2, biases['conv2']))\n",
        "    maxp2 = tf.nn.max_pool(conv2, ksize=[1,p2_h,p2_w,1], strides=[1,p2_h,p2_w,1], padding='VALID')\n",
        "\n",
        "    conv3 = tf.nn.conv2d(maxp2, weights['conv3'], [1,1,1,1], padding='SAME')\n",
        "    conv3 = tf.nn.relu(tf.add(conv3, biases['conv3']))\n",
        "    maxp3 = tf.nn.max_pool(conv3, ksize=[1,p3_h,p3_w,1], strides=[1,p3_h,p3_w,1], padding='SAME')\n",
        "\n",
        "    # Flatten\n",
        "    maxp3_flatten = tf.reshape(maxp3, [-1, conv_result_size])\n",
        "\n",
        "    # Fully connected\n",
        "    hidden = tf.add(tf.matmul(maxp3_flatten,weights['hidden']), biases['hidden'])\n",
        "    hidden = tf.nn.relu(hidden)\n",
        "    output = tf.add(tf.matmul(hidden, weights['output']), biases['output'])\n",
        "\n",
        "    return output"
      ],
      "metadata": {
        "id": "2YFvyvhL-odB"
      },
      "execution_count": 29,
      "outputs": []
    },
    {
      "cell_type": "code",
      "source": [
        "# Loss function\n",
        "\n",
        "LR = 0.0001\n",
        "pred = net(x, weights, biases)\n",
        "loss = tf.nn.softmax_cross_entropy_with_logits(logits=pred,labels=y)\n",
        "loss = tf.reduce_mean(loss)\n",
        "\n",
        "optm = tf.train.AdamOptimizer(learning_rate=LR).minimize(loss)"
      ],
      "metadata": {
        "id": "rFIxWvye_E2p"
      },
      "execution_count": 30,
      "outputs": []
    },
    {
      "cell_type": "code",
      "source": [
        "# Optimization\n",
        "\n",
        "n_batch = 50\n",
        "n_iter = 2500\n",
        "n_prt = 250\n",
        "\n",
        "sess = tf.Session()\n",
        "sess.run(tf.global_variables_initializer())\n",
        "\n",
        "loss_record_train = []\n",
        "loss_record_test = []\n",
        "\n",
        "for epoch in range(n_iter):\n",
        "\n",
        "    #배치 추출\n",
        "    # Get a random batch of training data\n",
        "    batch_indices = np.random.choice(train_x.shape[0], n_batch, replace=False)\n",
        "    batch_x = train_x[batch_indices]\n",
        "    batch_y = tf.keras.utils.to_categorical(train_y[batch_indices], num_classes=10)\n",
        "\n",
        "    sess.run(optm, feed_dict={x:batch_x, y:batch_y})\n",
        "\n",
        "    if epoch % n_prt == 0:\n",
        "        #테스트 배치 추출\n",
        "        test_batch_indices = np.random.choice(test_x.shape[0], n_batch, replace=False)\n",
        "        test_batch_x = test_x[test_batch_indices]\n",
        "        test_batch_y = test_y[test_batch_indices]\n",
        "\n",
        "        # Convert labels to one-hot encoding if necessary\n",
        "        test_batch_y = tf.keras.utils.to_categorical(test_batch_y, num_classes=10)\n",
        "        c1 = sess.run(loss, feed_dict={x: batch_x, y: batch_y})\n",
        "        c2 = sess.run(loss, feed_dict={x: test_batch_x, y: test_batch_y})\n",
        "\n",
        "        loss_record_train.append(c1)\n",
        "        loss_record_test.append(c2)\n",
        "        print(\"Iter : {}\".format(epoch))\n",
        "        print(\"Train Loss : {:.4f}\".format(c1))\n",
        "        print(\"Cost : {:.4f}\\n\".format(c2))\n",
        "\n",
        "plt.figure(figsize = (10,8))\n",
        "plt.plot(np.arange(len(loss_record_train))*n_prt, loss_record_train, 'r', label = 'Train')\n",
        "plt.plot(np.arange(len(loss_record_test))*n_prt, loss_record_test, 'b', label = 'Test')\n",
        "plt.xlabel('Iteration', fontsize = 15)\n",
        "plt.ylabel('Loss', fontsize = 15)\n",
        "plt.legend(fontsize = 12)\n",
        "plt.ylim([0, np.max(loss_record_train)])\n",
        "plt.show()"
      ],
      "metadata": {
        "colab": {
          "base_uri": "https://localhost:8080/",
          "height": 1000
        },
        "id": "qrdmx0CC_FdX",
        "outputId": "a8bcdda9-d051-4f15-b97e-974f5adbdf01"
      },
      "execution_count": 32,
      "outputs": [
        {
          "output_type": "stream",
          "name": "stdout",
          "text": [
            "Iter : 0\n",
            "Train Loss : 2.3335\n",
            "Cost : 2.4758\n",
            "\n",
            "Iter : 250\n",
            "Train Loss : 0.5101\n",
            "Cost : 0.5714\n",
            "\n",
            "Iter : 500\n",
            "Train Loss : 0.1137\n",
            "Cost : 0.2203\n",
            "\n",
            "Iter : 750\n",
            "Train Loss : 0.1858\n",
            "Cost : 0.2391\n",
            "\n",
            "Iter : 1000\n",
            "Train Loss : 0.1583\n",
            "Cost : 0.1607\n",
            "\n",
            "Iter : 1250\n",
            "Train Loss : 0.1060\n",
            "Cost : 0.1199\n",
            "\n",
            "Iter : 1500\n",
            "Train Loss : 0.0319\n",
            "Cost : 0.0525\n",
            "\n",
            "Iter : 1750\n",
            "Train Loss : 0.4135\n",
            "Cost : 0.0435\n",
            "\n",
            "Iter : 2000\n",
            "Train Loss : 0.0580\n",
            "Cost : 0.0252\n",
            "\n",
            "Iter : 2250\n",
            "Train Loss : 0.0532\n",
            "Cost : 0.0396\n",
            "\n"
          ]
        },
        {
          "output_type": "display_data",
          "data": {
            "text/plain": [
              "<Figure size 1000x800 with 1 Axes>"
            ],
            "image/png": "[encoded data removed]"
          },
          "metadata": {}
        }
      ]
    },
    {
      "cell_type": "markdown",
      "source": [
        "Testing or Evaluating"
      ],
      "metadata": {
        "id": "0-sL0X-BWy-H"
      }
    },
    {
      "cell_type": "code",
      "source": [
        "# Evaluation\n",
        "# Get a random batch of test data\n",
        "test_batch_indices = np.random.choice(test_x.shape[0], size=n_batch, replace=False)\n",
        "test_batch_x = test_x[test_batch_indices]\n",
        "test_batch_y = test_y[test_batch_indices]\n",
        "\n",
        "test_batch_x = test_batch_x.reshape((n_batch, input_h, input_w, input_ch))  # Reshape the batch if needed\n",
        "# Convert labels to one-hot encoding if necessary\n",
        "test_batch_y = tf.keras.utils.to_categorical(test_batch_y, num_classes=10)  # Adjust num_classes if needed\n",
        "\n",
        "my_pred = sess.run(pred, feed_dict={x: test_batch_x.reshape(-1, 28, 28, 1)})\n",
        "my_pred = np.argmax(my_pred, axis=1)\n",
        "\n",
        "labels = np.argmax(test_batch_y, axis=1)\n",
        "\n",
        "accr = np.mean(np.equal(my_pred, labels))\n",
        "print(\"Accuracy : {}\".format(accr*100))"
      ],
      "metadata": {
        "colab": {
          "base_uri": "https://localhost:8080/"
        },
        "id": "FkZLSwBX_K4A",
        "outputId": "1038129a-93cc-446e-a8f2-79e07549a603"
      },
      "execution_count": 33,
      "outputs": [
        {
          "output_type": "stream",
          "name": "stdout",
          "text": [
            "Accuracy : 98.0\n"
          ]
        }
      ]
    },
    {
      "cell_type": "code",
      "source": [
        "# Get a random batch of test data\n",
        "n_batch = 1\n",
        "test_batch_indices = np.random.choice(test_x.shape[0], size=n_batch, replace=False)\n",
        "test_batch_x = test_x[test_batch_indices]\n",
        "test_batch_y = test_y[test_batch_indices]\n",
        "\n",
        "test_batch_x = test_batch_x.reshape((n_batch, input_h, input_w, input_ch))  # Reshape the batch if needed\n",
        "# Convert labels to one-hot encoding if necessary\n",
        "test_batch_y = tf.keras.utils.to_categorical(test_batch_y, num_classes=10)  # Adjust num_classes if needed\n",
        "\n",
        "logits = sess.run(tf.nn.softmax(pred), feed_dict={x: test_batch_x.reshape(-1, 28, 28, 1)})\n",
        "predict = np.argmax(logits)\n",
        "\n",
        "plt.figure(figsize = (12, 5))\n",
        "plt.subplot(1,2,1)\n",
        "plt.imshow(test_batch_x.reshape(28, 28), 'gray')\n",
        "plt.axis('off')\n",
        "plt.subplot(1,2,2)\n",
        "plt.stem(logits.ravel())\n",
        "plt.show()\n",
        "\n",
        "np.set_printoptions(precision = 2, suppress = True)\n",
        "print('Prediction : {}'.format(predict))\n",
        "print('Probability : {}'.format(logits.ravel()))"
      ],
      "metadata": {
        "colab": {
          "base_uri": "https://localhost:8080/",
          "height": 482
        },
        "id": "k6VboAT2R-kg",
        "outputId": "c87b44d7-31a2-4a7b-df9c-750424dc7d9a"
      },
      "execution_count": 34,
      "outputs": [
        {
          "output_type": "display_data",
          "data": {
            "text/plain": [
              "<Figure size 1200x500 with 2 Axes>"
            ],
            "image/png": "[encoded data removed]"
          },
          "metadata": {}
        },
        {
          "output_type": "stream",
          "name": "stdout",
          "text": [
            "Prediction : 9\n",
            "Probability : [0.   0.   0.   0.   0.01 0.   0.   0.   0.   0.98]\n"
          ]
        }
      ]
    },
    {
      "cell_type": "code",
      "source": [
        "# Optimization\n",
        "\n",
        "n_batch = 50\n",
        "n_iter = 2500\n",
        "n_prt = 250\n",
        "\n",
        "sess = tf.Session()\n",
        "sess.run(tf.global_variables_initializer())\n",
        "\n",
        "loss_record_train = []\n",
        "loss_record_test = []\n",
        "for epoch in range(n_iter):\n",
        "    # Use np.random.choice to get a random batch from the loaded data\n",
        "    batch_indices = np.random.choice(train_x.shape[0], n_batch, replace=False)\n",
        "    batch_x = train_x[batch_indices]\n",
        "    batch_y = tf.keras.utils.to_categorical(train_y[batch_indices], num_classes=10) # Convert labels to one-hot encoding\n",
        "\n",
        "    sess.run(optm, feed_dict={x:batch_x, y:batch_y})\n",
        "\n",
        "    if epoch % n_prt == 0:\n",
        "        # Get a random batch of test data\n",
        "        test_batch_indices = np.random.choice(test_x.shape[0], n_batch, replace=False)\n",
        "        test_batch_x = test_x[test_batch_indices]\n",
        "        test_batch_y = test_y[test_batch_indices]\n",
        "\n",
        "        # Reshape and one-hot encode the test batch\n",
        "        test_batch_x = test_batch_x.reshape((n_batch, input_h, input_w, input_ch))\n",
        "        test_batch_y = tf.keras.utils.to_categorical(test_batch_y, num_classes=10)\n",
        "\n",
        "        c1 = sess.run(loss, feed_dict={x:batch_x, y:batch_y})\n",
        "        c2 = sess.run(loss, feed_dict={x:test_batch_x, y:test_batch_y})\n",
        "\n",
        "        loss_record_train.append(c1)\n",
        "        loss_record_test.append(c2)\n",
        "        print(\"Iter : {}\".format(epoch))\n",
        "        print(\"Train Loss : {:.4f}\".format(c1)) # Use formatted string for better readability\n",
        "        print(\"Cost : {:.4f}\\n\".format(c2))   # Use formatted string for better readability\n",
        "\n",
        "\n",
        "plt.figure(figsize = (10,8))\n",
        "plt.plot(np.arange(len(loss_record_train))*n_prt, loss_record_train, 'r', label = 'Train')\n",
        "plt.plot(np.arange(len(loss_record_test))*n_prt, loss_record_test, 'b', label = 'Test')\n",
        "plt.xlabel('Iteration', fontsize = 15)\n",
        "plt.ylabel('Loss', fontsize = 15)\n",
        "plt.legend(fontsize = 12)\n",
        "plt.ylim([0, np.max(loss_record_train)])\n",
        "plt.show()"
      ],
      "metadata": {
        "colab": {
          "base_uri": "https://localhost:8080/",
          "height": 1000
        },
        "id": "hXp3CBYSTFID",
        "outputId": "167120cd-f00e-4246-b58a-36f600152d38"
      },
      "execution_count": 35,
      "outputs": [
        {
          "output_type": "stream",
          "name": "stdout",
          "text": [
            "Iter : 0\n",
            "Train Loss : 2.6103\n",
            "Cost : 2.6983\n",
            "\n",
            "Iter : 250\n",
            "Train Loss : 0.3533\n",
            "Cost : 0.4382\n",
            "\n",
            "Iter : 500\n",
            "Train Loss : 0.2656\n",
            "Cost : 0.3382\n",
            "\n",
            "Iter : 750\n",
            "Train Loss : 0.2467\n",
            "Cost : 0.1435\n",
            "\n",
            "Iter : 1000\n",
            "Train Loss : 0.0378\n",
            "Cost : 0.0724\n",
            "\n",
            "Iter : 1250\n",
            "Train Loss : 0.1115\n",
            "Cost : 0.1556\n",
            "\n",
            "Iter : 1500\n",
            "Train Loss : 0.1761\n",
            "Cost : 0.0461\n",
            "\n",
            "Iter : 1750\n",
            "Train Loss : 0.0576\n",
            "Cost : 0.0690\n",
            "\n",
            "Iter : 2000\n",
            "Train Loss : 0.0715\n",
            "Cost : 0.0583\n",
            "\n",
            "Iter : 2250\n",
            "Train Loss : 0.1138\n",
            "Cost : 0.1631\n",
            "\n"
          ]
        },
        {
          "output_type": "display_data",
          "data": {
            "text/plain": [
              "<Figure size 1000x800 with 1 Axes>"
            ],
            "image/png": "[encoded data removed]"
          },
          "metadata": {}
        }
      ]
    },
    {
      "cell_type": "code",
      "source": [],
      "metadata": {
        "id": "6j9D80KCTKvL"
      },
      "execution_count": null,
      "outputs": []
    }
  ]
}