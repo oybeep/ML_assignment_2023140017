{
  "nbformat": 4,
  "nbformat_minor": 0,
  "metadata": {
    "colab": {
      "provenance": []
    },
    "kernelspec": {
      "name": "python3",
      "display_name": "Python 3"
    },
    "language_info": {
      "name": "python"
    }
  },
  "cells": [
    {
      "cell_type": "markdown",
      "source": [
        "**1. 실습 예제에 대해 코딩을 완료하고 평가하라.**"
      ],
      "metadata": {
        "id": "_IXOEVP94T4d"
      }
    },
    {
      "cell_type": "markdown",
      "source": [
        "Traning"
      ],
      "metadata": {
        "id": "5v7-IQQVTRKI"
      }
    },
    {
      "cell_type": "code",
      "execution_count": 1,
      "metadata": {
        "id": "S2_f4vLA8Ihm"
      },
      "outputs": [],
      "source": [
        "import tensorflow as tf\n",
        "import numpy as np\n",
        "import matplotlib.pyplot as plt"
      ]
    },
    {
      "cell_type": "code",
      "source": [
        "mnist = tf.keras.datasets.mnist\n",
        "\n",
        "(train_x, train_y), (test_x, test_y) = mnist.load_data()\n",
        "\n",
        "train_x, test_x = train_x/255.0, test_x/255.0"
      ],
      "metadata": {
        "colab": {
          "base_uri": "https://localhost:8080/"
        },
        "id": "2LAaqC5K8mOp",
        "outputId": "59ba59ef-bb47-4303-ba22-909c9b28f6ef"
      },
      "execution_count": 2,
      "outputs": [
        {
          "output_type": "stream",
          "name": "stdout",
          "text": [
            "Downloading data from https://storage.googleapis.com/tensorflow/tf-keras-datasets/mnist.npz\n",
            "\u001b[1m11490434/11490434\u001b[0m \u001b[32m━━━━━━━━━━━━━━━━━━━━\u001b[0m\u001b[37m\u001b[0m \u001b[1m0s\u001b[0m 0us/step\n"
          ]
        }
      ]
    },
    {
      "cell_type": "code",
      "source": [
        "train_x.shape"
      ],
      "metadata": {
        "colab": {
          "base_uri": "https://localhost:8080/"
        },
        "id": "_uAkrh208o1q",
        "outputId": "8fb5c23d-257e-4a21-f6bf-a0f951ab5661"
      },
      "execution_count": 3,
      "outputs": [
        {
          "output_type": "execute_result",
          "data": {
            "text/plain": [
              "(60000, 28, 28)"
            ]
          },
          "metadata": {},
          "execution_count": 3
        }
      ]
    },
    {
      "cell_type": "code",
      "source": [
        "train_x = train_x.reshape((train_x.shape[0], 28, 28, 1))\n",
        "test_x = test_x.reshape((test_x.shape[0], 28, 28, 1))"
      ],
      "metadata": {
        "id": "ebv7dpIf8qsE"
      },
      "execution_count": 4,
      "outputs": []
    },
    {
      "cell_type": "code",
      "source": [
        "# input layer\n",
        "input_h = 28   # input height\n",
        "input_w = 28  # input width\n",
        "input_ch = 1   # input channel : Gray scale\n",
        "\n",
        "\n",
        "# 1st convolution layer\n",
        "k1_h =3\n",
        "k1_w =3\n",
        "k1_ch =32\n",
        "p1_h =2\n",
        "p1_w =2\n",
        "# (None, 14, 14, 32)\n",
        "\n",
        "# 2nd convolution layer\n",
        "k2_h =3\n",
        "k2_w =3\n",
        "k2_ch =64\n",
        "p2_h =2\n",
        "p2_w =2\n",
        "# (None, 7, 7, 64)\n",
        "\n",
        "# Fully connected : flatten the features (4x4x128)\n",
        "conv_result_size =7*7*64\n",
        "n_hidden = 100\n",
        "n_output =10"
      ],
      "metadata": {
        "id": "wzLxdVTb8sRP"
      },
      "execution_count": 31,
      "outputs": []
    },
    {
      "cell_type": "code",
      "source": [
        "# Kernel size : [kernel_height, kernel_width, input_ch, output_ch]\n",
        "import tensorflow.compat.v1 as tf\n",
        "tf.disable_v2_behavior()\n",
        "\n",
        "weights = {\n",
        "    'conv1' : tf.Variable(tf.random.normal([k1_h, k1_w,input_ch, k1_ch], stddev = 0.1)), #height, width, in_channel, out_channel, stddev=표준편차\n",
        "    'conv2' : tf.Variable(tf.random.normal([k2_h, k2_w, k1_ch, k2_ch], stddev = 0.1)),\n",
        "    'hidden' : tf.Variable(tf.random.normal([conv_result_size, n_hidden], stddev = 0.1)),\n",
        "    'output' : tf.Variable(tf.random.normal([n_hidden, n_output], stddev = 0.1))\n",
        "}\n",
        "\n",
        "# bias size : [output_ch] or [neuron_size]\n",
        "biases = {\n",
        "    'conv1' : tf.Variable(tf.random.normal([k1_ch], stddev = 0.1)),\n",
        "    'conv2' : tf.Variable(tf.random.normal([k2_ch], stddev = 0.1)),\n",
        "    'hidden' : tf.Variable(tf.random.normal([n_hidden], stddev = 0.1)),\n",
        "    'output' : tf.Variable(tf.random.normal([n_output], stddev = 0.1))\n",
        "}\n",
        "\n",
        "# input layer : [batch_size, image_height, image_width, channels]\n",
        "# output layer : [batch_size, class_size]\n",
        "x = tf.placeholder(shape=[None, input_h, input_w, input_ch], dtype=tf.float32)\n",
        "y = tf.placeholder(shape=[None, n_output], dtype=tf.float32)"
      ],
      "metadata": {
        "id": "sZR5l7dm8urh"
      },
      "execution_count": 32,
      "outputs": []
    },
    {
      "cell_type": "code",
      "source": [
        "# [batch, height, width, channels]\n",
        "\n",
        "def net(x, weights, biases):\n",
        "    # 1st conv + ReLU + MaxPool\n",
        "    conv1 = tf.nn.conv2d(x, weights['conv1'], strides=[1,1,1,1], padding='SAME')\n",
        "    conv1 = tf.nn.relu(tf.add(conv1, biases['conv1']))\n",
        "    maxp1 = tf.nn.max_pool(conv1, ksize=[1,p1_h,p1_w,1], strides=[1,p1_h,p1_w,1], padding='VALID')\n",
        "\n",
        "    # 2nd convolution layer\n",
        "    # Corrected the strides argument to be a list [1,1,1,1] instead of trying to index a non-existent variable 'strides'\n",
        "    conv2 = tf.nn.conv2d(maxp1, weights['conv2'], [1,1,1,1], padding='SAME')\n",
        "    conv2 = tf.nn.relu(tf.add(conv2, biases['conv2']))\n",
        "    maxp2 = tf.nn.max_pool(conv2, ksize=[1,p2_h,p2_w,1], strides=[1,p2_h,p2_w,1], padding='VALID')\n",
        "\n",
        "    # Flatten\n",
        "    maxp2_flatten = tf.reshape(maxp2, [-1, conv_result_size])\n",
        "\n",
        "    # Fully connected\n",
        "    hidden = tf.add(tf.matmul(maxp2_flatten,weights['hidden']), biases['hidden'])\n",
        "    hidden = tf.nn.relu(hidden)\n",
        "    output = tf.add(tf.matmul(hidden, weights['output']), biases['output'])\n",
        "\n",
        "    return output"
      ],
      "metadata": {
        "id": "l5kRip218xUI"
      },
      "execution_count": 33,
      "outputs": []
    },
    {
      "cell_type": "code",
      "source": [
        "# Loss function\n",
        "\n",
        "LR = 0.0001\n",
        "pred = net(x, weights, biases)\n",
        "loss = tf.nn.softmax_cross_entropy_with_logits(logits=pred,labels=y)\n",
        "loss = tf.reduce_mean(loss)\n",
        "\n",
        "optm = tf.train.AdamOptimizer(learning_rate=LR).minimize(loss)"
      ],
      "metadata": {
        "id": "lIoR0olX821x"
      },
      "execution_count": 34,
      "outputs": []
    },
    {
      "cell_type": "code",
      "source": [
        "# Optimization\n",
        "\n",
        "n_batch = 50\n",
        "n_iter = 2500\n",
        "n_prt = 250\n",
        "\n",
        "sess = tf.Session()\n",
        "sess.run(tf.global_variables_initializer())\n",
        "\n",
        "loss_record_train = []\n",
        "loss_record_test = []\n",
        "for epoch in range(n_iter):\n",
        "\n",
        "    #배치 추출\n",
        "    # Get a random batch of training data\n",
        "    batch_indices = np.random.choice(train_x.shape[0], n_batch, replace=False)\n",
        "    batch_x = train_x[batch_indices]\n",
        "    batch_y = tf.keras.utils.to_categorical(train_y[batch_indices], num_classes=10)  # Adjust num_classes if needed\n",
        "\n",
        "    sess.run(optm, feed_dict={x:batch_x, y:batch_y})\n",
        "\n",
        "    if epoch % n_prt == 0:\n",
        "        #테스트 배치 추출\n",
        "        test_batch_indices = np.random.choice(test_x.shape[0], n_batch, replace=False)\n",
        "        test_batch_x = test_x[test_batch_indices]\n",
        "        test_batch_y = test_y[test_batch_indices]\n",
        "\n",
        "        test_batch_x = test_batch_x.reshape((n_batch, input_h, input_w, input_ch))\n",
        "        # Convert labels to one-hot encoding if necessary\n",
        "        test_batch_y = tf.keras.utils.to_categorical(test_batch_y, num_classes=10)  # Adjust num_classes if needed\n",
        "        c1 = sess.run(loss, feed_dict={x: batch_x, y: batch_y})\n",
        "        c2 = sess.run(loss, feed_dict={x: test_batch_x, y: test_batch_y})\n",
        "\n",
        "        loss_record_train.append(c1)\n",
        "        loss_record_test.append(c2)\n",
        "        print(\"Iter : {}\".format(epoch))\n",
        "        print(\"Train Loss : {:.4f}\".format(c1))\n",
        "        print(\"Cost : {:.4f}\\n\".format(c2))\n",
        "\n",
        "plt.figure(figsize = (10,8))\n",
        "plt.plot(np.arange(len(loss_record_train))*n_prt, loss_record_train, 'r', label = 'Train')\n",
        "plt.plot(np.arange(len(loss_record_test))*n_prt, loss_record_test, 'b', label = 'Test')\n",
        "plt.xlabel('Iteration', fontsize = 15)\n",
        "plt.ylabel('Loss', fontsize = 15)\n",
        "plt.legend(fontsize = 12)\n",
        "plt.ylim([0, np.max(loss_record_train)])\n",
        "plt.show()"
      ],
      "metadata": {
        "colab": {
          "base_uri": "https://localhost:8080/",
          "height": 1000
        },
        "id": "tCxt4jjt85Ne",
        "outputId": "d2d8bb2a-d056-4e59-e894-bd5214e0897a"
      },
      "execution_count": 35,
      "outputs": [
        {
          "output_type": "stream",
          "name": "stdout",
          "text": [
            "Iter : 0\n",
            "Train Loss : 2.6182\n",
            "Cost : 2.8850\n",
            "\n",
            "Iter : 250\n",
            "Train Loss : 0.7100\n",
            "Cost : 0.7040\n",
            "\n",
            "Iter : 500\n",
            "Train Loss : 0.2158\n",
            "Cost : 0.4323\n",
            "\n",
            "Iter : 750\n",
            "Train Loss : 0.2315\n",
            "Cost : 0.2869\n",
            "\n",
            "Iter : 1000\n",
            "Train Loss : 0.2491\n",
            "Cost : 0.1483\n",
            "\n",
            "Iter : 1250\n",
            "Train Loss : 0.1282\n",
            "Cost : 0.1431\n",
            "\n",
            "Iter : 1500\n",
            "Train Loss : 0.2933\n",
            "Cost : 0.0854\n",
            "\n",
            "Iter : 1750\n",
            "Train Loss : 0.1724\n",
            "Cost : 0.1140\n",
            "\n",
            "Iter : 2000\n",
            "Train Loss : 0.0978\n",
            "Cost : 0.0809\n",
            "\n",
            "Iter : 2250\n",
            "Train Loss : 0.2862\n",
            "Cost : 0.0892\n",
            "\n"
          ]
        },
        {
          "output_type": "display_data",
          "data": {
            "text/plain": [
              "<Figure size 1000x800 with 1 Axes>"
            ],
            "image/png": "[encoded data removed]"
          },
          "metadata": {}
        }
      ]
    },
    {
      "cell_type": "markdown",
      "source": [
        "Testing or Evaluating"
      ],
      "metadata": {
        "id": "qkVfCTP1Td1h"
      }
    },
    {
      "cell_type": "code",
      "source": [
        "# Evaluation\n",
        "# Get a random batch of test data\n",
        "test_batch_indices = np.random.choice(test_x.shape[0], size=n_batch, replace=False)\n",
        "test_batch_x = test_x[test_batch_indices]\n",
        "test_batch_y = test_y[test_batch_indices]\n",
        "\n",
        "test_batch_x = test_batch_x.reshape((n_batch, input_h, input_w, input_ch))  # Reshape the batch if needed\n",
        "# Convert labels to one-hot encoding if necessary\n",
        "test_batch_y = tf.keras.utils.to_categorical(test_batch_y, num_classes=10)  # Adjust num_classes if needed\n",
        "\n",
        "my_pred = sess.run(pred, feed_dict={x: test_batch_x.reshape(-1, 28, 28, 1)})\n",
        "my_pred = np.argmax(my_pred, axis=1)\n",
        "\n",
        "labels = np.argmax(test_batch_y, axis=1)\n",
        "\n",
        "accr = np.mean(np.equal(my_pred, labels))\n",
        "print(\"Accuracy : {}\".format(accr*100))"
      ],
      "metadata": {
        "colab": {
          "base_uri": "https://localhost:8080/"
        },
        "id": "exVjd9Lz89CR",
        "outputId": "22ab153f-b318-4115-c3cc-925d8bed212f"
      },
      "execution_count": 36,
      "outputs": [
        {
          "output_type": "stream",
          "name": "stdout",
          "text": [
            "Accuracy : 98.0\n"
          ]
        }
      ]
    },
    {
      "cell_type": "code",
      "source": [
        "# Get a random batch of test data\n",
        "n_batch = 1\n",
        "test_batch_indices = np.random.choice(test_x.shape[0], size=n_batch, replace=False)\n",
        "test_batch_x = test_x[test_batch_indices]\n",
        "test_batch_y = test_y[test_batch_indices]\n",
        "\n",
        "test_batch_x = test_batch_x.reshape((n_batch, input_h, input_w, input_ch))  # Reshape the batch if needed\n",
        "# Convert labels to one-hot encoding if necessary\n",
        "test_batch_y = tf.keras.utils.to_categorical(test_batch_y, num_classes=10)  # Adjust num_classes if needed\n",
        "\n",
        "logits = sess.run(tf.nn.softmax(pred), feed_dict={x: test_batch_x.reshape(-1, 28, 28, 1)})\n",
        "predict = np.argmax(logits)\n",
        "\n",
        "plt.figure(figsize = (12, 5))\n",
        "plt.subplot(1,2,1)\n",
        "plt.imshow(test_batch_x.reshape(28, 28), 'gray')\n",
        "plt.axis('off')\n",
        "plt.subplot(1,2,2)\n",
        "plt.stem(logits.ravel())\n",
        "plt.show()\n",
        "\n",
        "np.set_printoptions(precision = 2, suppress = True)\n",
        "print('Prediction : {}'.format(predict))\n",
        "print('Probability : {}'.format(logits.ravel()))"
      ],
      "metadata": {
        "colab": {
          "base_uri": "https://localhost:8080/",
          "height": 482
        },
        "id": "i6VUbZwH8_Hq",
        "outputId": "ca4d07ac-73d2-4081-a62d-79bf0e09a028"
      },
      "execution_count": 37,
      "outputs": [
        {
          "output_type": "display_data",
          "data": {
            "text/plain": [
              "<Figure size 1200x500 with 2 Axes>"
            ],
            "image/png": "[encoded data removed]"
          },
          "metadata": {}
        },
        {
          "output_type": "stream",
          "name": "stdout",
          "text": [
            "Prediction : 6\n",
            "Probability : [0. 0. 0. 0. 0. 0. 1. 0. 0. 0.]\n"
          ]
        }
      ]
    },
    {
      "cell_type": "code",
      "source": [
        "# Optimization\n",
        "\n",
        "n_batch = 50\n",
        "n_iter = 2500\n",
        "n_prt = 250\n",
        "\n",
        "sess = tf.Session()\n",
        "sess.run(tf.global_variables_initializer())\n",
        "\n",
        "loss_record_train = []\n",
        "loss_record_test = []\n",
        "for epoch in range(n_iter):\n",
        "    # Use np.random.choice to get a random batch from the loaded data\n",
        "    batch_indices = np.random.choice(train_x.shape[0], n_batch, replace=False)\n",
        "    batch_x = train_x[batch_indices]\n",
        "    batch_y = tf.keras.utils.to_categorical(train_y[batch_indices], num_classes=10) # Convert labels to one-hot encoding\n",
        "\n",
        "    sess.run(optm, feed_dict={x:batch_x, y:batch_y})\n",
        "\n",
        "    if epoch % n_prt == 0:\n",
        "        # Get a random batch of test data\n",
        "        test_batch_indices = np.random.choice(test_x.shape[0], n_batch, replace=False)\n",
        "        test_batch_x = test_x[test_batch_indices]\n",
        "        test_batch_y = test_y[test_batch_indices]\n",
        "\n",
        "        # Reshape and one-hot encode the test batch\n",
        "        test_batch_x = test_batch_x.reshape((n_batch, input_h, input_w, input_ch))\n",
        "        test_batch_y = tf.keras.utils.to_categorical(test_batch_y, num_classes=10)\n",
        "\n",
        "        c1 = sess.run(loss, feed_dict={x:batch_x, y:batch_y})\n",
        "        c2 = sess.run(loss, feed_dict={x:test_batch_x, y:test_batch_y})\n",
        "\n",
        "        loss_record_train.append(c1)\n",
        "        loss_record_test.append(c2)\n",
        "        print(\"Iter : {}\".format(epoch))\n",
        "        print(\"Train Loss : {:.4f}\".format(c1)) # Use formatted string for better readability\n",
        "        print(\"Cost : {:.4f}\\n\".format(c2))   # Use formatted string for better readability\n",
        "\n",
        "\n",
        "plt.figure(figsize = (10,8))\n",
        "plt.plot(np.arange(len(loss_record_train))*n_prt, loss_record_train, 'r', label = 'Train')\n",
        "plt.plot(np.arange(len(loss_record_test))*n_prt, loss_record_test, 'b', label = 'Test')\n",
        "plt.xlabel('Iteration', fontsize = 15)\n",
        "plt.ylabel('Loss', fontsize = 15)\n",
        "plt.legend(fontsize = 12)\n",
        "plt.ylim([0, np.max(loss_record_train)])\n",
        "plt.show()"
      ],
      "metadata": {
        "colab": {
          "base_uri": "https://localhost:8080/",
          "height": 1000
        },
        "id": "8FyLxj899B4u",
        "outputId": "81f9ba71-1aac-46e2-baf7-4274d9e122b5"
      },
      "execution_count": 38,
      "outputs": [
        {
          "output_type": "stream",
          "name": "stdout",
          "text": [
            "Iter : 0\n",
            "Train Loss : 2.5304\n",
            "Cost : 2.4946\n",
            "\n",
            "Iter : 250\n",
            "Train Loss : 0.5233\n",
            "Cost : 0.5515\n",
            "\n",
            "Iter : 500\n",
            "Train Loss : 0.2502\n",
            "Cost : 0.3432\n",
            "\n",
            "Iter : 750\n",
            "Train Loss : 0.1374\n",
            "Cost : 0.1435\n",
            "\n",
            "Iter : 1000\n",
            "Train Loss : 0.3158\n",
            "Cost : 0.0914\n",
            "\n",
            "Iter : 1250\n",
            "Train Loss : 0.1144\n",
            "Cost : 0.1451\n",
            "\n",
            "Iter : 1500\n",
            "Train Loss : 0.2589\n",
            "Cost : 0.0934\n",
            "\n",
            "Iter : 1750\n",
            "Train Loss : 0.0656\n",
            "Cost : 0.1896\n",
            "\n",
            "Iter : 2000\n",
            "Train Loss : 0.0955\n",
            "Cost : 0.1047\n",
            "\n",
            "Iter : 2250\n",
            "Train Loss : 0.1376\n",
            "Cost : 0.0722\n",
            "\n"
          ]
        },
        {
          "output_type": "display_data",
          "data": {
            "text/plain": [
              "<Figure size 1000x800 with 1 Axes>"
            ],
            "image/png": "[encoded data removed]"
          },
          "metadata": {}
        }
      ]
    },
    {
      "cell_type": "code",
      "source": [],
      "metadata": {
        "id": "x4CSCRN69Fml"
      },
      "execution_count": null,
      "outputs": []
    }
  ]
}